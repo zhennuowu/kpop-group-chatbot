{
 "cells": [
  {
   "cell_type": "markdown",
   "metadata": {},
   "source": [
    "# Project Description"
   ]
  },
  {
   "cell_type": "markdown",
   "metadata": {},
   "source": [
    "My project is a chatbot that talks with the user about K-pop groups. it gives you information about one of their songs, when did they came our and what gender they are.\n",
    "It is a chatbot that has a more directed conversation with user rather than general topic chatbot. Usually the input can be really simple  such as yes or no. "
   ]
  },
  {
   "cell_type": "markdown",
   "metadata": {},
   "source": [
    "## Project Code\n",
    "\n",
    "If it makes sense for your project, you can have code and outputs here in the notebook as well."
   ]
  },
  {
   "cell_type": "code",
   "execution_count": null,
   "metadata": {
    "scrolled": true
   },
   "outputs": [],
   "source": [
    "from my_module.functions import *\n"
   ]
  },
  {
   "cell_type": "code",
   "execution_count": null,
   "metadata": {},
   "outputs": [],
   "source": [
    "chat = True\n",
    "    \n",
    "while chat:\n",
    "        \n",
    "    print(greeting_chat(True))\n",
    "        \n",
    "    answer_of_group = input(\"Tell me a group: \")\n",
    "        \n",
    "    if 'quit' in answer_of_group:\n",
    "            \n",
    "        print(random.choice(goodbye_out))\n",
    "            \n",
    "        chat = False\n",
    "            \n",
    "    if 'quit' not in answer_of_group:\n",
    "             \n",
    "        if answer_of_group not in group_and_songs:\n",
    "                \n",
    "            if answer_of_group in answer_group_in:\n",
    "                    \n",
    "                print(\"It's okay. Let me help you. My favorite group is iKon. \\\n",
    "It is a boy band and their most famous song is LOVE SCENARIO.\")\n",
    "                    \n",
    "                more_info(True)\n",
    "                    \n",
    "                break\n",
    "                \n",
    "            else:\n",
    "                    \n",
    "                while answer_of_group not in group_and_songs:\n",
    "                        \n",
    "                    print('Make sure that your input is a K-pop group name.')\n",
    "                        \n",
    "                    answer_of_group = input(\"Type the K-pop's group name here: \")\n",
    "        \n",
    "        print('Oh, you want to know more about {}!'.format(answer_of_group))\n",
    "            \n",
    "        ask_gender(True, answer_of_group)\n",
    "            \n",
    "        ask_song(True, answer_of_group)\n",
    "        \n",
    "        print(ask_of_year(True, answer_of_group, input()))\n",
    "            \n",
    "        more_info(True, answer_of_group)\n",
    "            \n",
    "        input(ending_msg)    \n",
    "\n",
    "        chat = False\n",
    "\n",
    "        \n",
    "        \n",
    "\n"
   ]
  },
  {
   "cell_type": "code",
   "execution_count": null,
   "metadata": {},
   "outputs": [],
   "source": []
  },
  {
   "cell_type": "markdown",
   "metadata": {},
   "source": [
    "#### Extra Credit (*optional*)\n",
    "\n",
    "I have almost zero background in coding at all. This class has been a bit challenging for me already. However, I challenged myself to learn to use api in my project, which you can see at the end of my project, and is was really interesting for me to learn. "
   ]
  }
 ],
 "metadata": {
  "kernelspec": {
   "display_name": "Python 3",
   "language": "python",
   "name": "python3"
  },
  "language_info": {
   "codemirror_mode": {
    "name": "ipython",
    "version": 3
   },
   "file_extension": ".py",
   "mimetype": "text/x-python",
   "name": "python",
   "nbconvert_exporter": "python",
   "pygments_lexer": "ipython3",
   "version": "3.7.6"
  }
 },
 "nbformat": 4,
 "nbformat_minor": 2
}
